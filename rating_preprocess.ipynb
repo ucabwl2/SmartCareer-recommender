{
 "cells": [
  {
   "cell_type": "code",
   "execution_count": 5,
   "id": "c09bfaee-f783-4531-9779-2aaf1b8c8086",
   "metadata": {},
   "outputs": [],
   "source": [
    "import random\n",
    "import numpy as np\n",
    "import pandas as pd\n",
    "from PIL import Image\n",
    "\n"
   ]
  },
  {
   "cell_type": "code",
   "execution_count": 9,
   "id": "2fc321e4-50c0-40c0-8cd9-54b42686d24b",
   "metadata": {},
   "outputs": [],
   "source": [
    "rating_path = \"/Users/wlin109/Desktop/awesome-DeepLearning/junior_class/chapter-7-Recommendation_System/notebook/data_freelancer/rating.xlsx\"\n",
    "job_path = \"/Users/wlin109/Desktop/awesome-DeepLearning/junior_class/chapter-7-Recommendation_System/notebook/data_freelancer/jobs.xlsx\"\n",
    "\n",
    "# df_rating = pd.read_excel(open(rating_path, 'rb'),\n",
    "#                              sheet_name='shortlists')\n",
    "# df_job = pd.read_excel(open(job_path, 'rb'),\n",
    "#                              sheet_name='summary')['jobid']"
   ]
  },
  {
   "cell_type": "code",
   "execution_count": 49,
   "id": "792c87e8-0c31-4a0b-accd-2ebf9ab74f77",
   "metadata": {},
   "outputs": [],
   "source": [
    "jobid = df_job['jobid'].values\n",
    "\n",
    "# df_rating[df_rating['FreelancerID']]\n",
    "count=1\n",
    "dic_1 = {}\n",
    "dic_2 = {}\n",
    "list = []\n",
    "\n",
    "for i in range(len(df_rating)-1):\n",
    "        if df_rating['FreelancerID'][i] == df_rating['FreelancerID'][i+1]:\n",
    "            list.append(df_rating['jobid'][i])\n",
    "            count+=1\n",
    "\n",
    "\n",
    "        else:\n",
    "            list.append(df_rating['jobid'][i])\n",
    "            dic_1[df_rating['FreelancerID'][i]] = count\n",
    "            dic_2[df_rating['FreelancerID'][i]] = list\n",
    "            list = []\n",
    "            count =1\n",
    "\n"
   ]
  },
  {
   "cell_type": "code",
   "execution_count": null,
   "id": "1aebb9dc-570a-4337-bbab-c27af0978404",
   "metadata": {},
   "outputs": [],
   "source": [
    "rating = pd.read_excel(open(rating_path, 'rb'),sheet_name='shortlists') ## read in rating file\n",
    "    job_df = pd.read_excel(open(job_path, 'rb'),sheet_name='summary')"
   ]
  },
  {
   "cell_type": "code",
   "execution_count": 33,
   "id": "38ea734a-1c6e-43a0-ae10-272fa904b54c",
   "metadata": {},
   "outputs": [],
   "source": [
    "def get_rating(rating_path, job_path):\n",
    "    rating = pd.read_excel(open(rating_path, 'rb'),sheet_name='shortlists') ## read in rating file\n",
    "    job_df = pd.read_excel(open(job_path, 'rb'),sheet_name='summary')\n",
    "    all_job_set = set(job_df['jobid'].values)\n",
    "    rating_dict = rating.to_dict('records')   ## change to dictionary\n",
    "\n",
    "    tmp_dic = {}\n",
    "    for ele in rating_dict:\n",
    "        if ele['FreelancerID'] not in tmp_dic:\n",
    "            tmp_dic[ele['FreelancerID']] = [ele['jobid']]\n",
    "        else:\n",
    "            tmp_dic[ele['FreelancerID']].append(ele['jobid'])\n",
    "    print(f'We have {len(tmp_dic)} unique freelancers')\n",
    "    \n",
    "    res = pd.DataFrame()\n",
    "    active_job_cnt_all = 0\n",
    "    for userid,job in tmp_dic.items():\n",
    "\n",
    "        active_job_cnt = len(job)\n",
    "        active_job_cnt_all += active_job_cnt\n",
    "        \n",
    "        \n",
    "        inactive_jobs = all_job_set - set(job)\n",
    "        job.extend(np.random.choice(list(inactive_jobs), size=len(job), replace=False).tolist())\n",
    "        tmp_res = {}\n",
    "        tmp_res['FreelancerID'] = userid\n",
    "        tmp_res['jobid'] = job\n",
    "        tmp_res['rating'] = [1] * active_job_cnt + [0] * active_job_cnt\n",
    "        tmp_res_df = pd.DataFrame.from_dict(tmp_res)\n",
    "        res = res.append(tmp_res_df,ignore_index=True)\n",
    "    print(f'There are {active_job_cnt_all} active jobs, and output data shape is {res.shape}')\n",
    "    return res"
   ]
  },
  {
   "cell_type": "code",
   "execution_count": 34,
   "id": "fec7509b-90fe-48e2-be36-bd121ceea005",
   "metadata": {},
   "outputs": [
    {
     "name": "stdout",
     "output_type": "stream",
     "text": [
      "We have 6403 unique freelancers\n",
      "There are 10015 active jobs, and output data shape is (20030, 3)\n"
     ]
    }
   ],
   "source": [
    "result = get_rating(rating_path,job_path)\n",
    "\n",
    "result.to_excel('/Users/wlin109/Desktop/awesome-DeepLearning/junior_class/chapter-7-Recommendation_System/notebook/data_freelancer/post_rating.xlsx',index=False)"
   ]
  },
  {
   "cell_type": "code",
   "execution_count": 35,
   "id": "442843da-f9c0-46e7-926f-a393ed7dd549",
   "metadata": {},
   "outputs": [
    {
     "data": {
      "text/html": [
       "<div>\n",
       "<style scoped>\n",
       "    .dataframe tbody tr th:only-of-type {\n",
       "        vertical-align: middle;\n",
       "    }\n",
       "\n",
       "    .dataframe tbody tr th {\n",
       "        vertical-align: top;\n",
       "    }\n",
       "\n",
       "    .dataframe thead th {\n",
       "        text-align: right;\n",
       "    }\n",
       "</style>\n",
       "<table border=\"1\" class=\"dataframe\">\n",
       "  <thead>\n",
       "    <tr style=\"text-align: right;\">\n",
       "      <th></th>\n",
       "      <th>FreelancerID</th>\n",
       "      <th>jobid</th>\n",
       "      <th>rating</th>\n",
       "    </tr>\n",
       "  </thead>\n",
       "  <tbody>\n",
       "    <tr>\n",
       "      <th>0</th>\n",
       "      <td>179640</td>\n",
       "      <td>10947</td>\n",
       "      <td>1</td>\n",
       "    </tr>\n",
       "    <tr>\n",
       "      <th>1</th>\n",
       "      <td>179640</td>\n",
       "      <td>19608</td>\n",
       "      <td>0</td>\n",
       "    </tr>\n",
       "    <tr>\n",
       "      <th>2</th>\n",
       "      <td>182649</td>\n",
       "      <td>12057</td>\n",
       "      <td>1</td>\n",
       "    </tr>\n",
       "    <tr>\n",
       "      <th>3</th>\n",
       "      <td>182649</td>\n",
       "      <td>18990</td>\n",
       "      <td>0</td>\n",
       "    </tr>\n",
       "    <tr>\n",
       "      <th>4</th>\n",
       "      <td>204950</td>\n",
       "      <td>19269</td>\n",
       "      <td>1</td>\n",
       "    </tr>\n",
       "    <tr>\n",
       "      <th>...</th>\n",
       "      <td>...</td>\n",
       "      <td>...</td>\n",
       "      <td>...</td>\n",
       "    </tr>\n",
       "    <tr>\n",
       "      <th>20025</th>\n",
       "      <td>205307</td>\n",
       "      <td>6135</td>\n",
       "      <td>0</td>\n",
       "    </tr>\n",
       "    <tr>\n",
       "      <th>20026</th>\n",
       "      <td>205307</td>\n",
       "      <td>10469</td>\n",
       "      <td>0</td>\n",
       "    </tr>\n",
       "    <tr>\n",
       "      <th>20027</th>\n",
       "      <td>205307</td>\n",
       "      <td>10261</td>\n",
       "      <td>0</td>\n",
       "    </tr>\n",
       "    <tr>\n",
       "      <th>20028</th>\n",
       "      <td>209704</td>\n",
       "      <td>19444</td>\n",
       "      <td>1</td>\n",
       "    </tr>\n",
       "    <tr>\n",
       "      <th>20029</th>\n",
       "      <td>209704</td>\n",
       "      <td>5110</td>\n",
       "      <td>0</td>\n",
       "    </tr>\n",
       "  </tbody>\n",
       "</table>\n",
       "<p>20030 rows × 3 columns</p>\n",
       "</div>"
      ],
      "text/plain": [
       "       FreelancerID  jobid  rating\n",
       "0            179640  10947       1\n",
       "1            179640  19608       0\n",
       "2            182649  12057       1\n",
       "3            182649  18990       0\n",
       "4            204950  19269       1\n",
       "...             ...    ...     ...\n",
       "20025        205307   6135       0\n",
       "20026        205307  10469       0\n",
       "20027        205307  10261       0\n",
       "20028        209704  19444       1\n",
       "20029        209704   5110       0\n",
       "\n",
       "[20030 rows x 3 columns]"
      ]
     },
     "execution_count": 35,
     "metadata": {},
     "output_type": "execute_result"
    }
   ],
   "source": [
    "result"
   ]
  },
  {
   "cell_type": "code",
   "execution_count": null,
   "id": "1429c1bb-786e-4612-8d35-3e3340a48d79",
   "metadata": {},
   "outputs": [],
   "source": []
  }
 ],
 "metadata": {
  "kernelspec": {
   "display_name": "Python 3 (ipykernel)",
   "language": "python",
   "name": "python3"
  },
  "language_info": {
   "codemirror_mode": {
    "name": "ipython",
    "version": 3
   },
   "file_extension": ".py",
   "mimetype": "text/x-python",
   "name": "python",
   "nbconvert_exporter": "python",
   "pygments_lexer": "ipython3",
   "version": "3.9.7"
  }
 },
 "nbformat": 4,
 "nbformat_minor": 5
}
